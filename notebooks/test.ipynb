{
 "cells": [
  {
   "cell_type": "markdown",
   "id": "c1c1e73c",
   "metadata": {},
   "source": [
    "# Test Notebook\n",
    "This notebook briefly tests everything"
   ]
  },
  {
   "cell_type": "markdown",
   "id": "9073fefe",
   "metadata": {},
   "source": [
    "## Test imports"
   ]
  },
  {
   "cell_type": "code",
   "execution_count": 3,
   "id": "004adec5",
   "metadata": {},
   "outputs": [],
   "source": [
    "import torch\n",
    "from torch import nn\n",
    "import os\n",
    "\n",
    "import sys\n",
    "sys.path.append('/om2/user/jmhicks/projects/NeuroMatchSimilarity/code/')\n",
    "\n",
    "# test neuromatch_similarity import\n",
    "import neuromatch_similarity as nms"
   ]
  },
  {
   "cell_type": "code",
   "execution_count": 8,
   "id": "cc762e1d",
   "metadata": {},
   "outputs": [
    {
     "data": {
      "text/plain": [
       "('test', '.pt')"
      ]
     },
     "execution_count": 8,
     "metadata": {},
     "output_type": "execute_result"
    }
   ],
   "source": [
    "filename = os.path.relpath('../results/test.pt')\n",
    "path, filename = os.path.split(filename)\n",
    "model_name, _os.path.splitext(filename)"
   ]
  },
  {
   "cell_type": "code",
   "execution_count": 5,
   "id": "41c6aaf6",
   "metadata": {},
   "outputs": [],
   "source": [
    "import json"
   ]
  },
  {
   "cell_type": "code",
   "execution_count": 21,
   "id": "c030121f",
   "metadata": {},
   "outputs": [],
   "source": [
    "params = {'device': nms.utils.helpers.set_device,\n",
    "          'seed': 2021,\n",
    "          'network_features': {'model_name': 'alexnet',\n",
    "                               'layer_name': 'classifier.5'},\n",
    "          'model': {'transform': nms.utils.transforms.Identity,\n",
    "                    'transform_kwargs': None,\n",
    "                    'distance': nms.utils.distances.Cosine},\n",
    "          'training': {'batch_size': 1000,\n",
    "                       'hold_out': 0.2}}\n",
    "filename = os.path.relpath('../params/model1_params.pt')\n",
    "torch.save(params, filename)"
   ]
  },
  {
   "cell_type": "code",
   "execution_count": 19,
   "id": "fb8db34a",
   "metadata": {},
   "outputs": [
    {
     "name": "stdout",
     "output_type": "stream",
     "text": [
      "model001\n"
     ]
    }
   ],
   "source": [
    "params_name = filename\n",
    "_, file_name = os.path.split(params_name)\n",
    "prefix, _ = os.path.splitext(file_name)\n",
    "model_name = prefix[:-7]\n",
    "print(model_name)"
   ]
  },
  {
   "cell_type": "code",
   "execution_count": null,
   "id": "ca59730d",
   "metadata": {},
   "outputs": [],
   "source": []
  },
  {
   "cell_type": "code",
   "execution_count": null,
   "id": "a393e24a",
   "metadata": {},
   "outputs": [],
   "source": []
  },
  {
   "cell_type": "code",
   "execution_count": null,
   "id": "dca367b3",
   "metadata": {},
   "outputs": [],
   "source": []
  },
  {
   "cell_type": "code",
   "execution_count": null,
   "id": "de9d677b",
   "metadata": {},
   "outputs": [],
   "source": []
  },
  {
   "cell_type": "code",
   "execution_count": 4,
   "id": "93fa60a5",
   "metadata": {},
   "outputs": [
    {
     "name": "stdout",
     "output_type": "stream",
     "text": [
      "Current device: cuda\n",
      "Random seed 2021 has been set.\n",
      "Random seed 2021 has been set.\n",
      "Random seed 2021 has been set.\n"
     ]
    }
   ],
   "source": [
    "# evaluate zero-shot performance\n",
    "params = {'device': nms.utils.helpers.set_device(),\n",
    "          'seed': 2021,\n",
    "          'network_features': {'model_name': 'alexnet',\n",
    "                               'layer_name': 'classifier.5'},\n",
    "          'model': {'transform': nms.utils.transforms.Identity,\n",
    "                    'transform_kwargs': None,\n",
    "                    'distance': nms.utils.distances.Cosine},\n",
    "          'training': {'batch_size': 1000,\n",
    "                       'hold_out': 0.2}}\n",
    "\n",
    "train_losses, optimized_model, test_performance = nms.fit(params)\n",
    "filename = os.path.relpath('../results/test.pt')\n",
    "nms.save(filename, params, train_losses, optimized_model, test_performance)"
   ]
  },
  {
   "cell_type": "code",
   "execution_count": null,
   "id": "7e322287",
   "metadata": {},
   "outputs": [],
   "source": [
    "model_info = torch.load(filename)\n",
    "model_info"
   ]
  },
  {
   "cell_type": "code",
   "execution_count": null,
   "id": "a313d946",
   "metadata": {},
   "outputs": [],
   "source": [
    "params = {'device': nms.utils.helpers.set_device(),\n",
    "          'seed': 2021,\n",
    "          'network_features': {'model_name': 'alexnet',\n",
    "                               'layer_name': 'classifier.5'},\n",
    "          'model': {'transform': nms.utils.transforms.LinearProjection,\n",
    "                    'transform_kwargs': {'out_features': 10},\n",
    "                    'distance': nms.utils.distances.Cosine},\n",
    "          'training': {'learning_rate': 0.01,\n",
    "                       'loss_function': nn.CrossEntropyLoss,\n",
    "                       'optimizer': torch.optim.Adam,\n",
    "                       'num_epochs': 1,\n",
    "                       'summary_every': 1,\n",
    "                       'batch_size': 1000,\n",
    "                       'hold_out': 0.2}}\n",
    "\n",
    "train_losses, optimized_model, test_performance = nms.fit(params)"
   ]
  },
  {
   "cell_type": "code",
   "execution_count": null,
   "id": "5e2b1fda",
   "metadata": {},
   "outputs": [],
   "source": [
    "params = {'device': nms.utils.helpers.set_device(),\n",
    "          'seed': 2021,\n",
    "          'network_features': {'model_name': 'alexnet',\n",
    "                               'layer_name': 'classifier.5'},\n",
    "          'model': {'transform': nms.utils.transforms.Identity,\n",
    "                    'transform_kwargs': None,\n",
    "                    'distance': nms.utils.distances.Cosine},\n",
    "          'training': {'learning_rate': 0.01,\n",
    "                       'loss_function': nn.CrossEntropyLoss,\n",
    "                       'optimizer': torch.optim.Adam,\n",
    "                       'num_epochs': 1,\n",
    "                       'summary_every': 1,\n",
    "                       'batch_size': 1000,\n",
    "                       'hold_out': 0.2}}\n",
    "\n",
    "network_features = nms.utils.datasets.NetworkFeatures(model_name=params['network_features']['model_name'],\n",
    "                                                    layer_name=params['network_features']['layer_name'],\n",
    "                                                    device=params['device'])\n",
    "\n",
    "in_features = network_features.shape[1]\n",
    "if not params['model']['transform_kwargs']:\n",
    "        transform = params['model']['transform'](in_features)\n",
    "else:\n",
    "    transform = params['model']['transform'](in_features, **params['model']['transform_kwargs'])\n",
    "print(transform)\n",
    "\n",
    "distance = params['model']['distance']()\n",
    "model = nms.utils.model.DistanceModel(transform, distance).to(params['device'])"
   ]
  },
  {
   "cell_type": "code",
   "execution_count": null,
   "id": "8ea53478",
   "metadata": {},
   "outputs": [],
   "source": [
    "if not (list(model.parameters())):\n",
    "    print('model')"
   ]
  },
  {
   "cell_type": "code",
   "execution_count": null,
   "id": "7decc8f7",
   "metadata": {},
   "outputs": [],
   "source": [
    "params = {'device': nms.helpers.set_device(),\n",
    "          'seed': 2021,\n",
    "          'network_features': {'model_name': 'alexnet',\n",
    "                               'layer_name': 'classifier.5'},\n",
    "          'model': {'transform': nms.transforms.LinearProjection,\n",
    "                    'transform_kwargs': {'out_features': 10},\n",
    "                    'distance': nms.distances.Cosine},\n",
    "          'training': {'learning_rate': 0.01,\n",
    "                       'loss_function': nn.CrossEntropyLoss,\n",
    "                       'optimizer': torch.optim.Adam,\n",
    "                       'num_epochs': 1,\n",
    "                       'summary_every': 1,\n",
    "                       'batch_size': 1000,\n",
    "                       'hold_out': 0.2}}"
   ]
  },
  {
   "cell_type": "code",
   "execution_count": null,
   "id": "5421dac0",
   "metadata": {},
   "outputs": [],
   "source": [
    "params = {'device': nms.helpers.set_device(),\n",
    "          'seed': 2021,\n",
    "          'network_features': {'model_name': 'alexnet',\n",
    "                               'layer_name': 'classifier.5'},\n",
    "          'model': {'transform': nms.transforms.Identity,\n",
    "                    'transform_kwargs': None,\n",
    "                    'distance': nms.distances.Cosine},\n",
    "          'training': {'learning_rate': 0.01,\n",
    "                       'loss_function': nn.CrossEntropyLoss,\n",
    "                       'optimizer': torch.optim.Adam,\n",
    "                       'num_epochs': 1,\n",
    "                       'summary_every': 1,\n",
    "                       'batch_size': 1000,\n",
    "                       'hold_out': 0.2}}"
   ]
  },
  {
   "cell_type": "code",
   "execution_count": null,
   "id": "627aabea",
   "metadata": {},
   "outputs": [],
   "source": [
    "def run_everything(params):\n",
    "#     train_loader, test_loader = nms.datasets.LoadSimilarityDataset(batch_size=params['training']['batch_size'],\n",
    "#                                                                seed=params['seed'],\n",
    "#                                                                device=params['device'],\n",
    "#                                                                hold_out=params['training']['hold_out'])\n",
    "    network_features = nms.datasets.NetworkFeatures(model_name=params['network_features']['model_name'],\n",
    "                                                    layer_name=params['network_features']['layer_name'],\n",
    "                                                    device=params['device'])\n",
    "    in_features = network_features.shape[1]\n",
    "    if not params['model']['transform_kwargs']:\n",
    "            transform = params['model']['transform'](in_features)\n",
    "    else:\n",
    "        transform = params['model']['transform'](in_features, **params['model']['transform_kwargs'])\n",
    "    print(transform)\n",
    "    \n",
    "#     distance = params['model']['distance']()\n",
    "#     model = nms.model.DistanceModel(transform, distance).to(params['device'])\n",
    "\n",
    "#     loss_function = params['training']['loss_function']()\n",
    "#     optimizer = params['training']['optimizer'](model.parameters(), \n",
    "#                                                 lr=params['training']['learning_rate'])\n",
    "\n",
    "#     train_losses = nms.model.train(network_features, model, optimizer, \n",
    "#                                    loss_function, train_loader, \n",
    "#                                    params['training']['num_epochs'], \n",
    "#                                    params['training']['summary_every'])\n",
    "    \n",
    "#     return model, train_losses\n",
    "\n",
    "run_everything(params)"
   ]
  },
  {
   "cell_type": "code",
   "execution_count": null,
   "id": "badd8433",
   "metadata": {},
   "outputs": [],
   "source": [
    "device = nms.helpers.set_device()\n",
    "print(device)\n",
    "\n",
    "train_loader, test_loader = nms.datasets.LoadSimilarityDataset(batch_size=100,\n",
    "                                                               seed=2020,\n",
    "                                                               device=device,\n",
    "                                                               hold_out=0.2)"
   ]
  },
  {
   "cell_type": "markdown",
   "id": "267255cb",
   "metadata": {},
   "source": [
    "## Test loading data"
   ]
  },
  {
   "cell_type": "code",
   "execution_count": null,
   "id": "6aa03921",
   "metadata": {},
   "outputs": [],
   "source": [
    "# set device\n",
    "device = nms.helpers.set_device()\n",
    "print(device)\n",
    "\n",
    "# load human data\n",
    "# dataset = nms.datasets.SimilarityDataset(device=device)\n",
    "train_loader, test_loader = nms.datasets.LoadSimilarityDataset(batch_size=1000,\n",
    "                                                               seed=2020,\n",
    "                                                               device=device,\n",
    "                                                               hold_out=0.2)\n",
    "\n",
    "# load network features\n",
    "network_features = nms.datasets.NetworkFeatures(model_name='alexnet',\n",
    "                                                layer_name='classifier.5',\n",
    "                                                device=device)"
   ]
  },
  {
   "cell_type": "markdown",
   "id": "f409726d",
   "metadata": {},
   "source": [
    "## Test model setup"
   ]
  },
  {
   "cell_type": "code",
   "execution_count": null,
   "id": "248b6b8c",
   "metadata": {},
   "outputs": [],
   "source": [
    "transform = nms.transforms.Identity()\n",
    "distance = nms.distances.Euclidean() \n",
    "model = nms.model.DistanceModel(transform, distance).to(device)"
   ]
  },
  {
   "cell_type": "code",
   "execution_count": null,
   "id": "b5818f77",
   "metadata": {},
   "outputs": [],
   "source": [
    "performances = []\n",
    "weights = []\n",
    "for i, (triplets, targets) in enumerate(test_loader):\n",
    "    inputs = network_features[triplets,:]\n",
    "    outputs = model(inputs)\n",
    "    performances.append(nms.model.model_performance(outputs, targets))\n",
    "    weights.append(len(inputs))\n",
    "final_performance = np.sum((np.array(weights) / np.sum(weights)) * np.array(performances))\n",
    "print(final_performance)"
   ]
  },
  {
   "cell_type": "code",
   "execution_count": null,
   "id": "0d084593",
   "metadata": {},
   "outputs": [],
   "source": [
    "transform = nms.transforms.Identity()\n",
    "distance = nn.PairwiseDistance(p=) \n",
    "model = nms.model.DistanceModel(transform, distance).to(device)\n",
    "\n",
    "performances = []\n",
    "weights = []\n",
    "for i, (triplets, targets) in enumerate(test_loader):\n",
    "    inputs = network_features[triplets,:]\n",
    "    outputs = model(inputs)\n",
    "    performances.append(nms.model.model_performance(outputs, targets))\n",
    "    weights.append(len(inputs))\n",
    "final_performance = np.sum((np.array(weights) / np.sum(weights)) * np.array(performances))\n",
    "print(final_performance)"
   ]
  },
  {
   "cell_type": "code",
   "execution_count": null,
   "id": "4e669736",
   "metadata": {},
   "outputs": [],
   "source": [
    "a = torch.optim.Adam\n",
    "optimizer = a(model.parameters(), lr=0.01)"
   ]
  },
  {
   "cell_type": "markdown",
   "id": "ac5288e5",
   "metadata": {},
   "source": [
    "## Test training"
   ]
  },
  {
   "cell_type": "code",
   "execution_count": null,
   "id": "9a99fbaa",
   "metadata": {},
   "outputs": [],
   "source": [
    "# setup dataloader\n",
    "# train with first 10k trials for testing\n",
    "\n",
    "# intialize loss function and optimizer\n",
    "learning_rate = 0.001\n",
    "loss_function = nn.CrossEntropyLoss()\n",
    "optimizer = torch.optim.Adam(model.parameters(), lr=learning_rate)\n",
    "\n",
    "# run training loop\n",
    "num_epochs = 1\n",
    "summary_every = 1\n",
    "train_losses = nms.model.train(network_features, model, optimizer, \n",
    "                               loss_function, train_loader, num_epochs, \n",
    "                               summary_every)"
   ]
  },
  {
   "cell_type": "code",
   "execution_count": null,
   "id": "086f7147",
   "metadata": {},
   "outputs": [],
   "source": [
    "print(device)\n",
    "util_log = nms.helpers.util_log()"
   ]
  },
  {
   "cell_type": "code",
   "execution_count": null,
   "id": "4ccbf682",
   "metadata": {},
   "outputs": [],
   "source": [
    "device = \"\"\n",
    "seed = \"\"\n",
    "model = \"\"\n",
    "human_decision = \"\"\n",
    "feature_map = \"\"\n",
    "loss_function = \"\"\n",
    "optimizer = \"\"\n",
    "learning_rate = \"\"\n",
    "n_trials = \"\"\n",
    "hold_out = \"\"\n",
    "num_epochs = \"\"\n",
    "batch_size = \"\"\n",
    "summary_every = \"\"\n",
    "train_zero_shot = \"\"\n",
    "train_transformed = \"\"\n",
    "\n",
    "util_log = nms.helpers.util_log()\n",
    "print(util_log)"
   ]
  },
  {
   "cell_type": "code",
   "execution_count": null,
   "id": "728c4cb7",
   "metadata": {},
   "outputs": [],
   "source": [
    "class util_log:\n",
    "    def __init__(self):\n",
    "        self.device = \"\"\n",
    "        self.seed = 1\n",
    "        self.model = {\n",
    "            \"data_transform\": \"\",\n",
    "            \"model\": \"\"\n",
    "        }\n",
    "        self.data = {\n",
    "            \"human_decision\": \"\",\n",
    "            \"feature_map\": \"\"\n",
    "        }\n",
    "        self.utils = {\n",
    "            \"loss_function\": \"\",\n",
    "            \"optimizer\": \"\",\n",
    "            \"learning_rate\": 0.01,\n",
    "            \"n_trials\": 100000,\n",
    "            \"hold_out\": 0.1,\n",
    "            \"num_epochs\": 30,\n",
    "            \"batch_size\": 10000,\n",
    "            \"summary_every\": 10,\n",
    "            \"momentum\": \"\",\n",
    "            \"regularizer\": \"\"\n",
    "        }\n",
    "        self.results = {\n",
    "            \"train\": {\n",
    "                \"zero_shot\": 0,\n",
    "                \"transformed\": 0\n",
    "            },\n",
    "            \"test\": {\n",
    "                \"zero_shot\": 0,\n",
    "                \"transformed\": 0\n",
    "            }\n",
    "        }\n",
    "        self.find(\"device\", device)\n",
    "        self.find(\"seed\", seed)\n",
    "        self.find(\"[model]\", model)\n",
    "        self.find(\"[data][human_decision]\", human_decision)\n",
    "        self.find(\"[data][feature_map]\", feature_map)\n",
    "        self.find(\"[utils][loss_function]\", loss_function)\n",
    "        self.find(\"[utils][optimizer]\", optimizer)\n",
    "        self.find(\"[utils][learning_rate]\", learning_rate)\n",
    "        self.find(\"[utils][n_trials]\", n_trials)\n",
    "        self.find(\"[utils][hold_out]\", hold_out)\n",
    "        self.find(\"[utils][num_epochs]\", num_epochs)\n",
    "        self.find(\"[utils][batch_size]\", batch_size)\n",
    "        self.find(\"[utils][summary_every]\", summary_every)\n",
    "        # self.find(\"[utils][momentum]\", momentum)\n",
    "        # self.find(\"[utils][regularizer]\", regularizer)\n",
    "        self.find(\"[results][train][zero_shot]\", train_zero_shot)\n",
    "        self.find(\"[results][train][transformed]\", train_transformed)\n",
    "        # self.find(\"[results][test][zero_shot]\", test_zero_shot)\n",
    "        # self.find(\"[results][test][transformed]\", test_transformed)\n",
    "\n",
    "    def __str__(self):\n",
    "        return str(self.__dict__)\n",
    "\n",
    "    def find(self, key, value):\n",
    "        keys = key.split('][')\n",
    "        current_dict = self.__dict__\n",
    "        for k in keys[:-1]:\n",
    "            k = k.strip('[]')\n",
    "            if k not in current_dict:\n",
    "                current_dict[k] = {}\n",
    "            current_dict = current_dict[k]\n",
    "        last_key = keys[-1].strip('[]')\n",
    "        if last_key in current_dict:\n",
    "            current_dict[last_key] = value"
   ]
  },
  {
   "cell_type": "code",
   "execution_count": null,
   "id": "3418531a",
   "metadata": {},
   "outputs": [],
   "source": [
    "util_log = util_log()\n",
    "print(util_log)"
   ]
  }
 ],
 "metadata": {
  "kernelspec": {
   "display_name": "Python 3 (ipykernel)",
   "language": "python",
   "name": "python3"
  },
  "language_info": {
   "codemirror_mode": {
    "name": "ipython",
    "version": 3
   },
   "file_extension": ".py",
   "mimetype": "text/x-python",
   "name": "python",
   "nbconvert_exporter": "python",
   "pygments_lexer": "ipython3",
   "version": "3.11.4"
  }
 },
 "nbformat": 4,
 "nbformat_minor": 5
}
