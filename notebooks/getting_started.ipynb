{
  "nbformat": 4,
  "nbformat_minor": 0,
  "metadata": {
    "colab": {
      "provenance": [],
      "gpuType": "T4",
      "authorship_tag": "ABX9TyO9w/GSq8T99q13Ebod3Cw9",
      "include_colab_link": true
    },
    "kernelspec": {
      "name": "python3",
      "display_name": "Python 3"
    },
    "language_info": {
      "name": "python"
    },
    "accelerator": "GPU"
  },
  "cells": [
    {
      "cell_type": "markdown",
      "metadata": {
        "id": "view-in-github",
        "colab_type": "text"
      },
      "source": [
        "<a href=\"https://colab.research.google.com/github/jarrodmhicks/neuromatch_similarity/blob/main/notebooks/getting_started.ipynb\" target=\"_parent\"><img src=\"https://colab.research.google.com/assets/colab-badge.svg\" alt=\"Open In Colab\"/></a>"
      ]
    },
    {
      "cell_type": "code",
      "execution_count": 2,
      "metadata": {
        "colab": {
          "base_uri": "https://localhost:8080/"
        },
        "id": "TUVlqII2vXTp",
        "outputId": "31a1b2ae-dc1c-4e3d-959e-28e34b6ea8d2"
      },
      "outputs": [
        {
          "output_type": "stream",
          "name": "stdout",
          "text": [
            "Mounted at /content/drive\n",
            "Cloning into 'neuromatch_similarity'...\n",
            "remote: Enumerating objects: 58, done.\u001b[K\n",
            "remote: Counting objects: 100% (58/58), done.\u001b[K\n",
            "remote: Compressing objects: 100% (42/42), done.\u001b[K\n",
            "remote: Total 58 (delta 24), reused 40 (delta 13), pack-reused 0\u001b[K\n",
            "Unpacking objects: 100% (58/58), 30.12 KiB | 2.32 MiB/s, done.\n"
          ]
        }
      ],
      "source": [
        "#@title Get code from repo\n",
        "from google.colab import drive\n",
        "drive.mount('/content/drive')\n",
        "\n",
        "!git clone https://github.com/jarrodmhicks/neuromatch_similarity.git"
      ]
    },
    {
      "cell_type": "code",
      "source": [
        "#@title Import everything from repo\n",
        "from neuromatch_similarity.utils import helpers\n",
        "from neuromatch_similarity.utils import datasets\n",
        "from neuromatch_similarity.utils import model\n",
        "from neuromatch_similarity.utils import distances\n",
        "from neuromatch_similarity.utils import transforms"
      ],
      "metadata": {
        "id": "F3legElMvkvD"
      },
      "execution_count": 3,
      "outputs": []
    },
    {
      "cell_type": "code",
      "source": [
        "#@title Example to test device and load dataset\n",
        "device = helpers.set_device()\n",
        "dataset = datasets.SimilarityDataset(device=device)\n",
        "dataset.__getitem__(0) # get first trial"
      ],
      "metadata": {
        "id": "fSKVxySgvrJk",
        "colab": {
          "base_uri": "https://localhost:8080/"
        },
        "outputId": "56ea11e1-f4e3-40c5-a5bb-1bd3bcce47b8"
      },
      "execution_count": 6,
      "outputs": [
        {
          "output_type": "stream",
          "name": "stdout",
          "text": [
            "Current device: cuda\n"
          ]
        },
        {
          "output_type": "execute_result",
          "data": {
            "text/plain": [
              "(tensor([1244, 1049,  493], device='cuda:0'), tensor(2, device='cuda:0'))"
            ]
          },
          "metadata": {},
          "execution_count": 6
        }
      ]
    }
  ]
}