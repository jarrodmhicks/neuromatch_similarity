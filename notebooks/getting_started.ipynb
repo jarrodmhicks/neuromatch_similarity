{
 "cells": [
  {
   "cell_type": "markdown",
   "metadata": {
    "colab_type": "text",
    "id": "view-in-github"
   },
   "source": [
    "<a href=\"https://colab.research.google.com/github/jarrodmhicks/neuromatch_similarity/blob/functionality_updates/notebooks/getting_started.ipynb\" target=\"_parent\"><img src=\"https://colab.research.google.com/assets/colab-badge.svg\" alt=\"Open In Colab\"/></a>"
   ]
  },
  {
   "cell_type": "code",
   "execution_count": 2,
   "metadata": {
    "colab": {
     "base_uri": "https://localhost:8080/"
    },
    "id": "TUVlqII2vXTp",
    "outputId": "31a1b2ae-dc1c-4e3d-959e-28e34b6ea8d2"
   },
   "outputs": [
    {
     "name": "stdout",
     "output_type": "stream",
     "text": [
      "Mounted at /content/drive\n",
      "Cloning into 'neuromatch_similarity'...\n",
      "remote: Enumerating objects: 58, done.\u001b[K\n",
      "remote: Counting objects: 100% (58/58), done.\u001b[K\n",
      "remote: Compressing objects: 100% (42/42), done.\u001b[K\n",
      "remote: Total 58 (delta 24), reused 40 (delta 13), pack-reused 0\u001b[K\n",
      "Unpacking objects: 100% (58/58), 30.12 KiB | 2.32 MiB/s, done.\n"
     ]
    }
   ],
   "source": [
    "#@title Access neuromatch_similarity code\n",
    "# uncomment lines below\n",
    "\n",
    "## if running in colab:\n",
    "# !git clone https://github.com/jarrodmhicks/neuromatch_similarity.git\n",
    "## then switch to specific branch\n",
    "# !cd neuromatch_similarity && git checkout functionality_updates\n",
    "\n",
    "\n",
    "## if running locally:\n",
    "# import sys\n",
    "## point to where repo is saved locally\n",
    "# sys.path.append('/om2/user/jmhicks/projects/NeuroMatchSimilarity/code/')"
   ]
  },
  {
   "cell_type": "code",
   "execution_count": 2,
   "metadata": {
    "id": "F3legElMvkvD"
   },
   "outputs": [],
   "source": [
    "#@title Import utils\n",
    "import neuromatch_similarity.utils as nms\n",
    "import torch\n",
    "from torch import nn\n",
    "from torch.utils.data import DataLoader\n",
    "from torch.utils.data import Subset"
   ]
  },
  {
   "cell_type": "code",
   "execution_count": 3,
   "metadata": {
    "colab": {
     "base_uri": "https://localhost:8080/"
    },
    "id": "fSKVxySgvrJk",
    "outputId": "56ea11e1-f4e3-40c5-a5bb-1bd3bcce47b8"
   },
   "outputs": [
    {
     "name": "stdout",
     "output_type": "stream",
     "text": [
      "Current device: cuda\n",
      "cuda\n"
     ]
    }
   ],
   "source": [
    "#@title Test loading data\n",
    "# set device\n",
    "device = nms.helpers.set_device()\n",
    "print(device)\n",
    "\n",
    "# load human data\n",
    "# dataset = nms.datasets.SimilarityDataset(device=device) # OLD way\n",
    "batch_size = 1000\n",
    "seed = 2021\n",
    "hold_out = 0.2\n",
    "train_loader, test_loader = nms.datasets.LoadSimilarityDataset(batch_size=batch_size,\n",
    "                                                               seed=seed,\n",
    "                                                               device=device,\n",
    "                                                               hold_out=hold_out)\n",
    "\n",
    "# load network features\n",
    "network_features = nms.datasets.NetworkFeatures(model_name='alexnet',\n",
    "                                                layer_name='classifier.5',\n",
    "                                                device=device)"
   ]
  },
  {
   "cell_type": "code",
   "execution_count": 4,
   "metadata": {},
   "outputs": [],
   "source": [
    "#@title Test model setup\n",
    "transform = nms.transforms.LinearDiagonal(network_features.shape[1])\n",
    "distance = nms.distances.Euclidean() \n",
    "model = nms.model.DistanceModel(transform, distance).to(device)"
   ]
  },
  {
   "cell_type": "code",
   "execution_count": 5,
   "metadata": {},
   "outputs": [
    {
     "name": "stdout",
     "output_type": "stream",
     "text": [
      "Epoch [10/100]\n",
      "\tStep [10/10], Loss: 1.055641\n",
      "Epoch [20/100]\n",
      "\tStep [10/10], Loss: 1.020745\n",
      "Epoch [30/100]\n",
      "\tStep [10/10], Loss: 1.028562\n",
      "Epoch [40/100]\n",
      "\tStep [10/10], Loss: 1.018771\n",
      "Epoch [50/100]\n",
      "\tStep [10/10], Loss: 1.009783\n",
      "Epoch [60/100]\n",
      "\tStep [10/10], Loss: 1.011662\n",
      "Epoch [70/100]\n",
      "\tStep [10/10], Loss: 1.007672\n",
      "Epoch [80/100]\n",
      "\tStep [10/10], Loss: 1.007606\n",
      "Epoch [90/100]\n",
      "\tStep [10/10], Loss: 1.013256\n",
      "Epoch [100/100]\n",
      "\tStep [10/10], Loss: 1.010323\n"
     ]
    }
   ],
   "source": [
    "#@title Test training\n",
    "# initialize loss function and optimizer\n",
    "learning_rate = 0.001\n",
    "loss_function = nn.CrossEntropyLoss()\n",
    "optimizer = torch.optim.Adam(model.parameters(), lr=learning_rate)\n",
    "\n",
    "# run training loop\n",
    "num_epochs = 100\n",
    "summary_every = 10\n",
    "train_losses = nms.model.train(network_features, model, optimizer, \n",
    "                               loss_function, train_loader, num_epochs, \n",
    "                               summary_every)"
   ]
  }
 ],
 "metadata": {
  "accelerator": "GPU",
  "colab": {
   "authorship_tag": "ABX9TyO9w/GSq8T99q13Ebod3Cw9",
   "gpuType": "T4",
   "include_colab_link": true,
   "provenance": []
  },
  "kernelspec": {
   "display_name": "Python 3 (ipykernel)",
   "language": "python",
   "name": "python3"
  },
  "language_info": {
   "codemirror_mode": {
    "name": "ipython",
    "version": 3
   },
   "file_extension": ".py",
   "mimetype": "text/x-python",
   "name": "python",
   "nbconvert_exporter": "python",
   "pygments_lexer": "ipython3",
   "version": "3.11.4"
  }
 },
 "nbformat": 4,
 "nbformat_minor": 1
}
