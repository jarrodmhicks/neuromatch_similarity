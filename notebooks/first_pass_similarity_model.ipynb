{
  "cells": [
    {
      "cell_type": "markdown",
      "metadata": {
        "colab_type": "text",
        "id": "view-in-github"
      },
      "source": [
        "<a href=\"https://colab.research.google.com/github/jarrodmhicks/neuromatch_similarity/blob/main/notebooks/first_pass_similarity_model.ipynb\" target=\"_parent\"><img src=\"https://colab.research.google.com/assets/colab-badge.svg\" alt=\"Open In Colab\"/></a>"
      ]
    },
    {
      "cell_type": "code",
      "execution_count": null,
      "metadata": {
        "id": "FTckp9gzRkRo"
      },
      "outputs": [],
      "source": [
        "# @title Imports\n",
        "\n",
        "import os\n",
        "import numpy as np\n",
        "import pandas as pd\n",
        "import matplotlib.pyplot as plt\n",
        "from google.colab import drive\n",
        "\n",
        "import torch\n",
        "from torch import nn\n",
        "from torch.utils.data import Dataset\n",
        "from torch.utils.data import DataLoader\n",
        "from torch.utils.data import random_split"
      ]
    },
    {
      "cell_type": "code",
      "execution_count": null,
      "metadata": {
        "colab": {
          "base_uri": "https://localhost:8080/"
        },
        "id": "44W-kqJfSVnu",
        "outputId": "67976f47-df79-4474-bd42-03264320fab3"
      },
      "outputs": [
        {
          "name": "stdout",
          "output_type": "stream",
          "text": [
            "cuda\n"
          ]
        }
      ],
      "source": [
        "# @title Set device\n",
        "\n",
        "device = torch.device(\"cuda\" if torch.cuda.is_available() else \"cpu\")\n",
        "print(device)"
      ]
    },
    {
      "cell_type": "code",
      "execution_count": null,
      "metadata": {
        "id": "mJEImBRKSvA2"
      },
      "outputs": [],
      "source": [
        "# @title Define main distance model class\n",
        "\n",
        "class DistanceModel(nn.Module):\n",
        "  def __init__(self, transform, distance, device=device):\n",
        "    super(DistanceModel, self).__init__()\n",
        "    self.transform = transform\n",
        "    self.distance = distance\n",
        "\n",
        "  def forward(self, features): # batch dim by 3 by n features\n",
        "    transformed_features = self.transform(features) # batch dim by 3 by k features\n",
        "    distances = torch.hstack((torch.unsqueeze(self.distance(transformed_features[:, 1, :], transformed_features[:, 2, :]), 1),\n",
        "                              torch.unsqueeze(self.distance(transformed_features[:, 0, :], transformed_features[:, 2, :]), 1),\n",
        "                              torch.unsqueeze(self.distance(transformed_features[:, 0, :], transformed_features[:, 1, :]), 1)))\n",
        "    return -distances # batch dim by 3"
      ]
    },
    {
      "cell_type": "code",
      "execution_count": null,
      "metadata": {
        "id": "RgODNkIlTDYg"
      },
      "outputs": [],
      "source": [
        "# @title Define transforms\n",
        "\n",
        "# TODO: incorporate seeding for reproducibility\n",
        "\n",
        "class IdentityTransform(nn.Module):\n",
        "  def __init__(self):\n",
        "    super(IdentityTransform, self).__init__()\n",
        "\n",
        "  def forward(self, features):\n",
        "    return features # return features\n",
        "\n",
        "class DiagonalLinearTransform(nn.Module):\n",
        "  def __init__(self, n_features):\n",
        "    super(DiagonalLinearTransform, self).__init__()\n",
        "    self.diagonal = nn.Parameter(torch.randn(n_features)) # TODO: try initializing with different variances\n",
        "\n",
        "  def forward(self, features):\n",
        "    return features * self.diagonal # equivalent to features @ torch.diag(self.diagonal)\n",
        "\n",
        "class FullLinearTransform(nn.Module):\n",
        "  def __init__(self, n_features):\n",
        "    super(FullLinearTransform, self).__init__()\n",
        "    self.transformation_matrix = nn.Parameter(torch.randn(n_features, n_features))\n",
        "\n",
        "  def forward(self, features):\n",
        "    return features @ self.transformation_matrix\n",
        "\n",
        "# TODO: neural network transforms can go here"
      ]
    },
    {
      "cell_type": "code",
      "execution_count": null,
      "metadata": {
        "id": "k5h2sGN1Td53"
      },
      "outputs": [],
      "source": [
        "# @title Define distances\n",
        "\n",
        "class CosineDistance(nn.Module):\n",
        "  def __init__(self):\n",
        "    super(CosineDistance, self).__init__()\n",
        "    self.cos_sim = nn.CosineSimilarity(dim=1)\n",
        "\n",
        "  def forward(self, input1, input2):\n",
        "    return 1 - self.cos_sim(input1, input2)\n",
        "\n",
        "# TODO: other distance metrics can go here"
      ]
    },
    {
      "cell_type": "code",
      "execution_count": null,
      "metadata": {
        "id": "oxlw6NNVUnxu"
      },
      "outputs": [],
      "source": [
        "# @title Define utilities\n",
        "\n",
        "# TODO: update how train/test split happens to exclude a subset of images rather than trials...\n",
        "\n",
        "class SimilarityDataset(Dataset):\n",
        "  def __init__(self, image_indices, human_decisions, hold_out=0.1):\n",
        "    self.total_samples = len(human_decisions)\n",
        "    self.n_train = int(round(self.total_samples * (1 - hold_out)))\n",
        "    self.n_test = int(self.total_samples - self.n_train)\n",
        "    self.decisions = human_decisions\n",
        "    self.triplets = image_indices\n",
        "\n",
        "  def __len__(self):\n",
        "    return self.total_samples\n",
        "\n",
        "  def __getitem__(self, index):\n",
        "    triplet = self.triplets[index,:]\n",
        "    decision = self.decisions[index]\n",
        "    return triplet, decision\n",
        "\n",
        "def train_model(features, model, optimizer, loss_function, train_loader, device=device, summary=True):\n",
        "  n_steps = len(train_loader)\n",
        "  for i, (triplets, targets) in enumerate(train_loader):\n",
        "    # send data to device\n",
        "    inputs = features[triplets,:]\n",
        "\n",
        "    # data should already be on device!\n",
        "    # inputs = inputs.to(device)\n",
        "    # targets = targets.to(device)\n",
        "\n",
        "    # forward pass\n",
        "    outputs = model(inputs)\n",
        "    loss = loss_function(outputs, targets)\n",
        "\n",
        "    # backward and optimization step\n",
        "    optimizer.zero_grad()\n",
        "    loss.backward()\n",
        "    optimizer.step()\n",
        "\n",
        "    # print summary on last step of epoch\n",
        "    if ((i+1) == n_steps) & summary:\n",
        "      print(f'\\tStep [{i+1}/{n_steps}], Loss: {loss.item():.6f}')\n",
        "\n",
        "  return loss.item()\n",
        "\n",
        "def model_performance(outputs, targets):\n",
        "  model_decisions = torch.argmax(outputs, dim=1)\n",
        "  performance = torch.sum(model_decisions == targets) / len(targets)\n",
        "  return performance.item()\n",
        "\n",
        "\n",
        "# TODO: write saving utility\n",
        "'''\n",
        "should save final model, performance, and specifications (e.g,. which network\n",
        "activations were used, which transform, which distance, what seed)\n",
        "'''"
      ]
    },
    {
      "cell_type": "code",
      "execution_count": null,
      "metadata": {
        "id": "jKVcNFK6Tm15"
      },
      "outputs": [],
      "source": [
        "# @title Read in human data\n",
        "\n",
        "human_data_link = 'https://osf.io/download/h2smy/'\n",
        "df = pd.read_csv(human_data_link, delimiter='\\t')\n",
        "image_indices = torch.tensor(np.array(df[['image1', 'image2', 'image3']]), device=device)-1\n",
        "human_decisions = torch.squeeze(torch.tensor(np.array(df[['choice']]), device=device)-1)"
      ]
    },
    {
      "cell_type": "code",
      "execution_count": null,
      "metadata": {
        "colab": {
          "base_uri": "https://localhost:8080/"
        },
        "id": "bHG4zXt3TwiQ",
        "outputId": "c2d85c81-e6da-4292-8b02-f60711d16b2d"
      },
      "outputs": [
        {
          "name": "stdout",
          "output_type": "stream",
          "text": [
            "Mounted at /content/drive\n"
          ]
        }
      ],
      "source": [
        "# @title Read in network activations\n",
        "\n",
        "# mount google drive\n",
        "mounted_dir = '/content/drive'\n",
        "drive.mount(mounted_dir, force_remount=True)\n",
        "\n",
        "# specify model and layer\n",
        "featureModel = 'alexnet'\n",
        "featureModelLayer = 'classifier.5'\n",
        "\n",
        "featureModelDir = f'features_{featureModel}_{featureModelLayer}'\n",
        "features_file = os.path.join('neuromatch/network_features', featureModelDir, 'features.npy') # point to wherever this in your drive\n",
        "full_feature_path = os.path.join(mounted_dir, 'MyDrive', features_file)\n",
        "\n",
        "network_activations = torch.from_numpy(np.load(full_feature_path)).to(device)"
      ]
    },
    {
      "cell_type": "code",
      "execution_count": null,
      "metadata": {
        "id": "b8sg5hRsZBcu"
      },
      "outputs": [],
      "source": [
        "# @title Setup entire model\n",
        "\n",
        "# params\n",
        "n_trials = 100000 # for testing\n",
        "hold_out = 0.1\n",
        "num_epochs = 30\n",
        "batch_size = 10000\n",
        "learning_rate = 0.01\n",
        "summary_every = 10\n",
        "\n",
        "# initialize dataset\n",
        "dataset = SimilarityDataset(image_indices[:n_trials,:], human_decisions[:n_trials], hold_out=hold_out)\n",
        "train_dataset, test_dataset = random_split(dataset, [dataset.n_train, dataset.n_test])\n",
        "train_loader = DataLoader(dataset=train_dataset, batch_size=batch_size, shuffle=True)\n",
        "test_loader = DataLoader(dataset=test_dataset, batch_size=len(test_dataset), shuffle=True)\n",
        "\n",
        "# intialize vanilla model\n",
        "identity_transform = IdentityTransform()\n",
        "distance = CosineDistance() # initialize distance\n",
        "original_model = DistanceModel(identity_transform, distance)\n",
        "original_model.to(device)\n",
        "\n",
        "# initialize model components\n",
        "transform = DiagonalLinearTransform(network_activations.shape[1]) # initialize transform\n",
        "model = DistanceModel(transform, distance) # initialize distance model\n",
        "model.to(device)\n",
        "\n",
        "# intialize loss function and optimizer\n",
        "loss_function = nn.CrossEntropyLoss()\n",
        "optimizer = torch.optim.Adam(model.parameters(), lr=learning_rate)"
      ]
    },
    {
      "cell_type": "code",
      "execution_count": null,
      "metadata": {
        "colab": {
          "base_uri": "https://localhost:8080/"
        },
        "id": "UHFQ5m7RbvYM",
        "outputId": "d1e96509-6e95-4cf3-9fc0-2344178fb4ee"
      },
      "outputs": [
        {
          "name": "stdout",
          "output_type": "stream",
          "text": [
            "Epoch [10/30]\n",
            "\tStep [9/9], Loss: 1.075253\n",
            "Epoch [20/30]\n",
            "\tStep [9/9], Loss: 1.068998\n",
            "Epoch [30/30]\n",
            "\tStep [9/9], Loss: 1.057930\n"
          ]
        }
      ],
      "source": [
        "# @title Train model\n",
        "\n",
        "train_losses = []\n",
        "for epoch in range(num_epochs):\n",
        "  if (epoch+1) % summary_every == 0:\n",
        "    print(f'Epoch [{epoch+1}/{num_epochs}]')\n",
        "    summary = True\n",
        "  else:\n",
        "    summary = False\n",
        "  train_loss = train_model(network_activations, model, optimizer, loss_function, train_loader, device=device, summary=summary)\n",
        "  train_losses.append(train_loss)"
      ]
    },
    {
      "cell_type": "code",
      "execution_count": null,
      "metadata": {
        "id": "FOuRCYbNcZw6"
      },
      "outputs": [],
      "source": [
        "# @title Evaluate model performance on test set\n",
        "\n",
        "(test_triplets, test_targets) = next(iter(test_loader))\n",
        "with torch.no_grad():\n",
        "  test_inputs = network_activations[test_triplets,:]\n",
        "  test_inputs = test_inputs.to(device)\n",
        "  test_targets = test_targets.to(device)\n",
        "  test_outputs = model(test_inputs)\n",
        "  test_outputs_original = original_model(test_inputs)\n",
        "final_performance = model_performance(test_outputs, test_targets)\n",
        "final_performance_original = model_performance(test_outputs_original, test_targets)"
      ]
    },
    {
      "cell_type": "code",
      "execution_count": null,
      "metadata": {
        "colab": {
          "base_uri": "https://localhost:8080/",
          "height": 485
        },
        "id": "Dgx489LzdmaG",
        "outputId": "ae2e27b7-b9f0-4508-d30b-d3cc8be76459"
      },
      "outputs": [
        {
          "name": "stdout",
          "output_type": "stream",
          "text": [
            "zero-shot performance: 0.45729997754096985\n",
            "transformed performance: 0.4860000014305115\n"
          ]
        },
        {
          "data": {
            "image/png": "[encoded data removed]",
            "text/plain": [
              "<Figure size 640x480 with 1 Axes>"
            ]
          },
          "metadata": {},
          "output_type": "display_data"
        }
      ],
      "source": [
        "# @title Results summary\n",
        "\n",
        "print(f'zero-shot performance: {final_performance_original}')\n",
        "print(f'transformed performance: {final_performance}')\n",
        "\n",
        "plt.plot(train_losses)\n",
        "plt.xlabel('Training Epochs')\n",
        "plt.ylabel('Loss')\n",
        "plt.show()"
      ]
    }
  ],
  "metadata": {
    "accelerator": "GPU",
    "colab": {
      "authorship_tag": "ABX9TyOfa9TiL1HLn8bjVlvtamQJ",
      "gpuType": "T4",
      "include_colab_link": true,
      "provenance": []
    },
    "kernelspec": {
      "display_name": "Python 3",
      "name": "python3"
    },
    "language_info": {
      "name": "python"
    }
  },
  "nbformat": 4,
  "nbformat_minor": 0
}
